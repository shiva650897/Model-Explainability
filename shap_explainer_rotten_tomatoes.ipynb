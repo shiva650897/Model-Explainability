{
  "nbformat": 4,
  "nbformat_minor": 0,
  "metadata": {
    "colab": {
      "name": "shap_explainer_rotten tomatoes.ipynb",
      "provenance": []
    },
    "kernelspec": {
      "name": "python3",
      "display_name": "Python 3"
    },
    "language_info": {
      "name": "python"
    }
  },
  "cells": [
    {
      "cell_type": "code",
      "source": [
        "# Importing the packages\n",
        "import pandas as pd\n",
        "import nltk\n",
        "import re\n",
        "from bs4 import BeautifulSoup\n",
        "from sklearn.model_selection import train_test_split\n",
        "from sklearn.feature_extraction.text import CountVectorizer\n",
        "from sklearn.ensemble import RandomForestClassifier\n",
        "from sklearn.metrics import classification_report\n",
        "\n",
        "nltk.download('punkt')\n",
        "nltk.download('stopwords')"
      ],
      "metadata": {
        "colab": {
          "base_uri": "https://localhost:8080/"
        },
        "id": "oiS9i1n_a72o",
        "outputId": "961aa09f-9b9d-4d67-b319-fddc30e5f88d"
      },
      "execution_count": 1,
      "outputs": [
        {
          "output_type": "stream",
          "name": "stdout",
          "text": [
            "[nltk_data] Downloading package punkt to /root/nltk_data...\n",
            "[nltk_data]   Unzipping tokenizers/punkt.zip.\n",
            "[nltk_data] Downloading package stopwords to /root/nltk_data...\n",
            "[nltk_data]   Unzipping corpora/stopwords.zip.\n"
          ]
        },
        {
          "output_type": "execute_result",
          "data": {
            "text/plain": [
              "True"
            ]
          },
          "metadata": {},
          "execution_count": 1
        }
      ]
    },
    {
      "cell_type": "code",
      "source": [
        "REPLACE_BY_SPACE_RE = re.compile('[/(){}\\[\\]\\|@,;]')\n",
        "BAD_SYMBOLS_RE = re.compile('[^0-9a-z #+_]')\n",
        "STOPWORDS =nltk.corpus.stopwords.words('english')\n",
        "\n",
        "def clean_text(text):\n",
        "    text = BeautifulSoup(text, \"lxml\").text # HTML decoding\n",
        "    text = text.lower() # lowercase text\n",
        "    text = REPLACE_BY_SPACE_RE.sub(' ', text) # replace REPLACE_BY_SPACE_RE symbols by space in text\n",
        "    text = BAD_SYMBOLS_RE.sub('', text) # delete symbols which are in BAD_SYMBOLS_RE from text\n",
        "    text = ' '.join(word for word in text.split() if word not in STOPWORDS) # delete stopwors from text\n",
        "    return text"
      ],
      "metadata": {
        "id": "XCSedoPAuUGm"
      },
      "execution_count": 2,
      "outputs": []
    },
    {
      "cell_type": "code",
      "source": [
        "fname='/content/rotten_tomatoes.csv'\n",
        "df = pd.read_csv(fname,encoding='latin-1')\n",
        "df['cleaned_review'] = df['reviews'].apply(clean_text)\n",
        "X_train, X_test, y_train, y_test = train_test_split(df[\"cleaned_review\"], df[\"labels\"], test_size=0.2, random_state=123)"
      ],
      "metadata": {
        "id": "bYJPPBKHufu4"
      },
      "execution_count": 3,
      "outputs": []
    },
    {
      "cell_type": "code",
      "source": [
        "bow_vectorizer = CountVectorizer(min_df=5, ngram_range=(1,2), stop_words='english')\n",
        "bow_x_train = bow_vectorizer.fit_transform(X_train)\n",
        "bow_x_test = bow_vectorizer.transform(X_test)"
      ],
      "metadata": {
        "id": "Z449YgbLtVll"
      },
      "execution_count": 6,
      "outputs": []
    },
    {
      "cell_type": "code",
      "source": [
        "count_vect_df = pd.DataFrame(bow_x_test.todense(), columns=bow_vectorizer.get_feature_names_out())"
      ],
      "metadata": {
        "id": "zHnocjxDxy0M"
      },
      "execution_count": 7,
      "outputs": []
    },
    {
      "cell_type": "code",
      "source": [
        "# Random forest\n",
        "rf = RandomForestClassifier(n_estimators = 100,criterion = \"gini\",max_depth=3, min_samples_leaf=5)\n",
        "rf.fit(bow_x_train, y_train)\n",
        "pred_rf = rf.predict(bow_x_test)\n",
        "print(classification_report(y_test, pred_rf))"
      ],
      "metadata": {
        "colab": {
          "base_uri": "https://localhost:8080/"
        },
        "id": "u4X34OHm3Eyq",
        "outputId": "eab338d2-0c40-4137-fc88-f8e1a92be5a3"
      },
      "execution_count": 9,
      "outputs": [
        {
          "output_type": "stream",
          "name": "stdout",
          "text": [
            "              precision    recall  f1-score   support\n",
            "\n",
            "           0       0.71      0.47      0.56      1064\n",
            "           1       0.60      0.81      0.69      1069\n",
            "\n",
            "    accuracy                           0.64      2133\n",
            "   macro avg       0.66      0.64      0.63      2133\n",
            "weighted avg       0.66      0.64      0.63      2133\n",
            "\n"
          ]
        }
      ]
    },
    {
      "cell_type": "code",
      "execution_count": 10,
      "metadata": {
        "id": "hUWaZIO1iOdH",
        "colab": {
          "base_uri": "https://localhost:8080/"
        },
        "outputId": "8e955bce-1818-4dd0-e431-35a5e2dc3eed"
      },
      "outputs": [
        {
          "output_type": "stream",
          "name": "stdout",
          "text": [
            "Collecting shap\n",
            "  Downloading shap-0.40.0-cp37-cp37m-manylinux2010_x86_64.whl (564 kB)\n",
            "\u001b[?25l\r\u001b[K     |▋                               | 10 kB 9.9 MB/s eta 0:00:01\r\u001b[K     |█▏                              | 20 kB 14.5 MB/s eta 0:00:01\r\u001b[K     |█▊                              | 30 kB 10.3 MB/s eta 0:00:01\r\u001b[K     |██▎                             | 40 kB 3.8 MB/s eta 0:00:01\r\u001b[K     |███                             | 51 kB 3.4 MB/s eta 0:00:01\r\u001b[K     |███▌                            | 61 kB 4.0 MB/s eta 0:00:01\r\u001b[K     |████                            | 71 kB 4.4 MB/s eta 0:00:01\r\u001b[K     |████▋                           | 81 kB 3.5 MB/s eta 0:00:01\r\u001b[K     |█████▏                          | 92 kB 3.9 MB/s eta 0:00:01\r\u001b[K     |█████▉                          | 102 kB 4.3 MB/s eta 0:00:01\r\u001b[K     |██████▍                         | 112 kB 4.3 MB/s eta 0:00:01\r\u001b[K     |███████                         | 122 kB 4.3 MB/s eta 0:00:01\r\u001b[K     |███████▌                        | 133 kB 4.3 MB/s eta 0:00:01\r\u001b[K     |████████▏                       | 143 kB 4.3 MB/s eta 0:00:01\r\u001b[K     |████████▊                       | 153 kB 4.3 MB/s eta 0:00:01\r\u001b[K     |█████████▎                      | 163 kB 4.3 MB/s eta 0:00:01\r\u001b[K     |█████████▉                      | 174 kB 4.3 MB/s eta 0:00:01\r\u001b[K     |██████████▍                     | 184 kB 4.3 MB/s eta 0:00:01\r\u001b[K     |███████████                     | 194 kB 4.3 MB/s eta 0:00:01\r\u001b[K     |███████████▋                    | 204 kB 4.3 MB/s eta 0:00:01\r\u001b[K     |████████████▏                   | 215 kB 4.3 MB/s eta 0:00:01\r\u001b[K     |████████████▊                   | 225 kB 4.3 MB/s eta 0:00:01\r\u001b[K     |█████████████▍                  | 235 kB 4.3 MB/s eta 0:00:01\r\u001b[K     |██████████████                  | 245 kB 4.3 MB/s eta 0:00:01\r\u001b[K     |██████████████▌                 | 256 kB 4.3 MB/s eta 0:00:01\r\u001b[K     |███████████████                 | 266 kB 4.3 MB/s eta 0:00:01\r\u001b[K     |███████████████▋                | 276 kB 4.3 MB/s eta 0:00:01\r\u001b[K     |████████████████▎               | 286 kB 4.3 MB/s eta 0:00:01\r\u001b[K     |████████████████▉               | 296 kB 4.3 MB/s eta 0:00:01\r\u001b[K     |█████████████████▍              | 307 kB 4.3 MB/s eta 0:00:01\r\u001b[K     |██████████████████              | 317 kB 4.3 MB/s eta 0:00:01\r\u001b[K     |██████████████████▋             | 327 kB 4.3 MB/s eta 0:00:01\r\u001b[K     |███████████████████▏            | 337 kB 4.3 MB/s eta 0:00:01\r\u001b[K     |███████████████████▊            | 348 kB 4.3 MB/s eta 0:00:01\r\u001b[K     |████████████████████▎           | 358 kB 4.3 MB/s eta 0:00:01\r\u001b[K     |████████████████████▉           | 368 kB 4.3 MB/s eta 0:00:01\r\u001b[K     |█████████████████████▌          | 378 kB 4.3 MB/s eta 0:00:01\r\u001b[K     |██████████████████████          | 389 kB 4.3 MB/s eta 0:00:01\r\u001b[K     |██████████████████████▋         | 399 kB 4.3 MB/s eta 0:00:01\r\u001b[K     |███████████████████████▏        | 409 kB 4.3 MB/s eta 0:00:01\r\u001b[K     |███████████████████████▉        | 419 kB 4.3 MB/s eta 0:00:01\r\u001b[K     |████████████████████████▍       | 430 kB 4.3 MB/s eta 0:00:01\r\u001b[K     |█████████████████████████       | 440 kB 4.3 MB/s eta 0:00:01\r\u001b[K     |█████████████████████████▌      | 450 kB 4.3 MB/s eta 0:00:01\r\u001b[K     |██████████████████████████      | 460 kB 4.3 MB/s eta 0:00:01\r\u001b[K     |██████████████████████████▊     | 471 kB 4.3 MB/s eta 0:00:01\r\u001b[K     |███████████████████████████▎    | 481 kB 4.3 MB/s eta 0:00:01\r\u001b[K     |███████████████████████████▉    | 491 kB 4.3 MB/s eta 0:00:01\r\u001b[K     |████████████████████████████▍   | 501 kB 4.3 MB/s eta 0:00:01\r\u001b[K     |█████████████████████████████   | 512 kB 4.3 MB/s eta 0:00:01\r\u001b[K     |█████████████████████████████▋  | 522 kB 4.3 MB/s eta 0:00:01\r\u001b[K     |██████████████████████████████▏ | 532 kB 4.3 MB/s eta 0:00:01\r\u001b[K     |██████████████████████████████▊ | 542 kB 4.3 MB/s eta 0:00:01\r\u001b[K     |███████████████████████████████▎| 552 kB 4.3 MB/s eta 0:00:01\r\u001b[K     |████████████████████████████████| 563 kB 4.3 MB/s eta 0:00:01\r\u001b[K     |████████████████████████████████| 564 kB 4.3 MB/s \n",
            "\u001b[?25hRequirement already satisfied: scipy in /usr/local/lib/python3.7/dist-packages (from shap) (1.4.1)\n",
            "Requirement already satisfied: tqdm>4.25.0 in /usr/local/lib/python3.7/dist-packages (from shap) (4.64.0)\n",
            "Requirement already satisfied: packaging>20.9 in /usr/local/lib/python3.7/dist-packages (from shap) (21.3)\n",
            "Requirement already satisfied: cloudpickle in /usr/local/lib/python3.7/dist-packages (from shap) (1.3.0)\n",
            "Requirement already satisfied: pandas in /usr/local/lib/python3.7/dist-packages (from shap) (1.3.5)\n",
            "Requirement already satisfied: numba in /usr/local/lib/python3.7/dist-packages (from shap) (0.51.2)\n",
            "Requirement already satisfied: numpy in /usr/local/lib/python3.7/dist-packages (from shap) (1.21.6)\n",
            "Requirement already satisfied: scikit-learn in /usr/local/lib/python3.7/dist-packages (from shap) (1.0.2)\n",
            "Collecting slicer==0.0.7\n",
            "  Downloading slicer-0.0.7-py3-none-any.whl (14 kB)\n",
            "Requirement already satisfied: pyparsing!=3.0.5,>=2.0.2 in /usr/local/lib/python3.7/dist-packages (from packaging>20.9->shap) (3.0.8)\n",
            "Requirement already satisfied: setuptools in /usr/local/lib/python3.7/dist-packages (from numba->shap) (57.4.0)\n",
            "Requirement already satisfied: llvmlite<0.35,>=0.34.0.dev0 in /usr/local/lib/python3.7/dist-packages (from numba->shap) (0.34.0)\n",
            "Requirement already satisfied: python-dateutil>=2.7.3 in /usr/local/lib/python3.7/dist-packages (from pandas->shap) (2.8.2)\n",
            "Requirement already satisfied: pytz>=2017.3 in /usr/local/lib/python3.7/dist-packages (from pandas->shap) (2022.1)\n",
            "Requirement already satisfied: six>=1.5 in /usr/local/lib/python3.7/dist-packages (from python-dateutil>=2.7.3->pandas->shap) (1.15.0)\n",
            "Requirement already satisfied: joblib>=0.11 in /usr/local/lib/python3.7/dist-packages (from scikit-learn->shap) (1.1.0)\n",
            "Requirement already satisfied: threadpoolctl>=2.0.0 in /usr/local/lib/python3.7/dist-packages (from scikit-learn->shap) (3.1.0)\n",
            "Installing collected packages: slicer, shap\n",
            "Successfully installed shap-0.40.0 slicer-0.0.7\n"
          ]
        }
      ],
      "source": [
        "!pip install shap"
      ]
    },
    {
      "cell_type": "code",
      "source": [
        "!pip install shap\n",
        "import shap \n",
        "explainershap = shap.TreeExplainer(rf)\n",
        "shap_values = shap.TreeExplainer(rf).shap_values(count_vect_df, check_additivity = False)\n",
        "shap.summary_plot(shap_values, count_vect_df, plot_type=\"bar\")"
      ],
      "metadata": {
        "colab": {
          "base_uri": "https://localhost:8080/",
          "height": 581
        },
        "id": "3LwIaLseZkye",
        "outputId": "baa6fb91-79cf-46af-9be6-aa5c117f0975"
      },
      "execution_count": 11,
      "outputs": [
        {
          "output_type": "display_data",
          "data": {
            "text/plain": [
              "<Figure size 576x684 with 1 Axes>"
            ],
            "image/png": "[encoded data removed]"
          },
          "metadata": {
            "needs_background": "light"
          }
        }
      ]
    },
    {
      "cell_type": "code",
      "source": [
        ""
      ],
      "metadata": {
        "id": "cKrroclm2waw"
      },
      "execution_count": null,
      "outputs": []
    }
  ]
}